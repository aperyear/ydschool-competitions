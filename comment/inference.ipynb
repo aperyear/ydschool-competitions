{
 "cells": [
  {
   "cell_type": "code",
   "execution_count": 1,
   "id": "10ec0183-eaf5-4a42-93c0-eee825cb9244",
   "metadata": {},
   "outputs": [
    {
     "data": {
      "text/plain": [
       "device(type='cuda')"
      ]
     },
     "execution_count": 1,
     "metadata": {},
     "output_type": "execute_result"
    }
   ],
   "source": [
    "import os\n",
    "import time\n",
    "import random\n",
    "import numpy as np\n",
    "import pandas as pd\n",
    "from glob import glob\n",
    "from tqdm.auto import tqdm\n",
    "\n",
    "import torch\n",
    "import torch.nn as nn\n",
    "import torch.nn.functional as F\n",
    "from torch.utils.data import Dataset\n",
    "from torch.utils.data import DataLoader\n",
    "from transformers import AutoTokenizer\n",
    "\n",
    "device = torch.device('cuda' if torch.cuda.is_available() else 'cpu')\n",
    "device"
   ]
  },
  {
   "cell_type": "code",
   "execution_count": 3,
   "id": "d1c06acd-655e-4098-855a-5f5fdc2cf5cb",
   "metadata": {},
   "outputs": [],
   "source": [
    "from data import preprocess_df, CustomDataset\n",
    "from model import BertModel"
   ]
  },
  {
   "cell_type": "code",
   "execution_count": 4,
   "id": "8bff7385-02c0-4a19-9a31-07150413b616",
   "metadata": {},
   "outputs": [],
   "source": [
    "bias_config = {\n",
    "    'model_name': 'beomi/KcELECTRA-base',       \n",
    "    'input_col': 'comment_title',               \n",
    "    'target_col': 'bias',              \n",
    "    'dropout': 0.1,                \n",
    "    'max_len': 128,\n",
    "    'select': False,\n",
    "}\n",
    "hate_config = {\n",
    "    'model_name': 'beomi/KcELECTRA-base',       \n",
    "    'input_col': 'comment_title',  \n",
    "    'target_col': 'hate',                  \n",
    "    'dropout': 0.1,                            \n",
    "    'max_len': 128,            \n",
    "    'select': False,\n",
    "}"
   ]
  },
  {
   "cell_type": "code",
   "execution_count": 5,
   "id": "d8f18c7e-8f56-47a7-8126-87d051bd9ae3",
   "metadata": {},
   "outputs": [],
   "source": [
    "def stack_inference(config, target_col, load_path, test_path='./test.csv'):\n",
    "    n_class = 3 if target_col == \"bias\" else 2\n",
    "\n",
    "    df = pd.read_csv(test_path)\n",
    "    df['bias'] = 0\n",
    "    df['hate'] = 0\n",
    "    df['comment_title'] = df['comment'] + ' ' + df['title']\n",
    "    df['title_comment'] = df['title'] + ' ' + df['comment']\n",
    "    bias_map = {'none': 0, 'gender': 1, 'others': 2}\n",
    "    hate_map = {'none': 0, 'hate': 1}\n",
    "    inv_bias_map = {v: k for k, v in bias_map.items()}\n",
    "    inv_hate_map = {v: k for k, v in hate_map.items()}\n",
    "\n",
    "    model_list = []\n",
    "    for path in load_path:\n",
    "        load_pt = torch.load(path)\n",
    "        model_list.append(load_pt)\n",
    "        print(path)\n",
    "\n",
    "    stack_logits = torch.zeros(len(df), n_class).cpu()\n",
    "    tokenizer = AutoTokenizer.from_pretrained(config['model_name'])\n",
    "    model = BertModel(model_name=config['model_name'], n_class=n_class, p=config['dropout'])\n",
    "    model.to(device)\n",
    "    \n",
    "    for state_dict in model_list:\n",
    "        assert config['target_col'] == target_col\n",
    "\n",
    "        df = preprocess_df(df, col=config['input_col'])\n",
    "\n",
    "        x_data = np.array([i for i in df[config['input_col']].values])\n",
    "        y_data = df[target_col].values\n",
    "\n",
    "        test_set = CustomDataset(x_data, y_data, tokenizer, config['max_len'])\n",
    "        test_loader = DataLoader(test_set, batch_size=1, shuffle=False)\n",
    "\n",
    "        model.load_state_dict(state_dict)\n",
    "        model.eval()\n",
    "\n",
    "        temp = []\n",
    "        with torch.no_grad():\n",
    "            for x, y in tqdm(test_loader):\n",
    "                mask = x['attention_mask'].squeeze(1).to(device)\n",
    "                input_ids = x['input_ids'].squeeze(1).to(device)\n",
    "                segment_ids = x['token_type_ids'].squeeze(1).to(device)\n",
    "                y = y.to(device)\n",
    "  \n",
    "                logits = model(input_ids, mask, segment_ids) \n",
    " \n",
    "                logits = logits.detach().cpu()\n",
    "                temp.append(logits)\n",
    "        res = torch.stack(temp, dim=0).squeeze()\n",
    "        stack_logits += res\n",
    "        \n",
    "    y_pred = stack_logits.argmax(dim=-1).numpy()\n",
    "\n",
    "    if target_col == 'bias':\n",
    "        df[target_col] = [inv_bias_map[i] for i in y_pred]\n",
    "    elif target_col == 'hate':\n",
    "        df[target_col] = [inv_hate_map[i] for i in y_pred]\n",
    "    return df"
   ]
  },
  {
   "cell_type": "code",
   "execution_count": 6,
   "id": "27d6bfe2-90d3-42d2-bd63-6bbc64a78d14",
   "metadata": {},
   "outputs": [
    {
     "data": {
      "text/plain": [
       "['./saved/KcELECTRA-base/4_ct_bias_0.770.pt',\n",
       " './saved/KcELECTRA-base/0_ct_bias_0.754.pt',\n",
       " './saved/KcELECTRA-base/2_ct_bias_0.738.pt',\n",
       " './saved/KcELECTRA-base/3_ct_bias_0.762.pt',\n",
       " './saved/KcELECTRA-base/1_ct_bias_0.759.pt']"
      ]
     },
     "execution_count": 6,
     "metadata": {},
     "output_type": "execute_result"
    }
   ],
   "source": [
    "glob('./saved/KcELECTRA-base/*ct_bias_*')"
   ]
  },
  {
   "cell_type": "code",
   "execution_count": null,
   "id": "ff060823-82df-43b6-a6e3-680bafbaaa75",
   "metadata": {
    "tags": []
   },
   "outputs": [],
   "source": [
    "bias_load_path = glob('./saved/KcELECTRA-base/*ct_bias_*')\n",
    "bias_result = stack_inference(bias_config, 'bias', bias_load_path)"
   ]
  },
  {
   "cell_type": "code",
   "execution_count": null,
   "id": "4746c23c-33cc-4701-8fa5-64d0cad2a6d9",
   "metadata": {
    "collapsed": true,
    "jupyter": {
     "outputs_hidden": true
    },
    "tags": []
   },
   "outputs": [],
   "source": [
    "hate_load_path = glob('./saved/KcELECTRA-base/*ct_hate_*')\n",
    "hate_result = stack_inference(hate_config, 'hate', hate_load_path)"
   ]
  },
  {
   "cell_type": "code",
   "execution_count": 9,
   "id": "c1339af8-cc67-4271-9c2a-775f0e4ac23f",
   "metadata": {},
   "outputs": [
    {
     "data": {
      "text/html": [
       "<div>\n",
       "<style scoped>\n",
       "    .dataframe tbody tr th:only-of-type {\n",
       "        vertical-align: middle;\n",
       "    }\n",
       "\n",
       "    .dataframe tbody tr th {\n",
       "        vertical-align: top;\n",
       "    }\n",
       "\n",
       "    .dataframe thead th {\n",
       "        text-align: right;\n",
       "    }\n",
       "</style>\n",
       "<table border=\"1\" class=\"dataframe\">\n",
       "  <thead>\n",
       "    <tr style=\"text-align: right;\">\n",
       "      <th></th>\n",
       "      <th>ID</th>\n",
       "      <th>bias</th>\n",
       "      <th>hate</th>\n",
       "    </tr>\n",
       "  </thead>\n",
       "  <tbody>\n",
       "    <tr>\n",
       "      <th>0</th>\n",
       "      <td>0</td>\n",
       "      <td>none</td>\n",
       "      <td>none</td>\n",
       "    </tr>\n",
       "    <tr>\n",
       "      <th>1</th>\n",
       "      <td>1</td>\n",
       "      <td>none</td>\n",
       "      <td>none</td>\n",
       "    </tr>\n",
       "    <tr>\n",
       "      <th>2</th>\n",
       "      <td>2</td>\n",
       "      <td>none</td>\n",
       "      <td>hate</td>\n",
       "    </tr>\n",
       "    <tr>\n",
       "      <th>3</th>\n",
       "      <td>3</td>\n",
       "      <td>none</td>\n",
       "      <td>hate</td>\n",
       "    </tr>\n",
       "    <tr>\n",
       "      <th>4</th>\n",
       "      <td>4</td>\n",
       "      <td>none</td>\n",
       "      <td>hate</td>\n",
       "    </tr>\n",
       "    <tr>\n",
       "      <th>...</th>\n",
       "      <td>...</td>\n",
       "      <td>...</td>\n",
       "      <td>...</td>\n",
       "    </tr>\n",
       "    <tr>\n",
       "      <th>506</th>\n",
       "      <td>506</td>\n",
       "      <td>none</td>\n",
       "      <td>hate</td>\n",
       "    </tr>\n",
       "    <tr>\n",
       "      <th>507</th>\n",
       "      <td>507</td>\n",
       "      <td>none</td>\n",
       "      <td>none</td>\n",
       "    </tr>\n",
       "    <tr>\n",
       "      <th>508</th>\n",
       "      <td>508</td>\n",
       "      <td>others</td>\n",
       "      <td>hate</td>\n",
       "    </tr>\n",
       "    <tr>\n",
       "      <th>509</th>\n",
       "      <td>509</td>\n",
       "      <td>others</td>\n",
       "      <td>hate</td>\n",
       "    </tr>\n",
       "    <tr>\n",
       "      <th>510</th>\n",
       "      <td>510</td>\n",
       "      <td>none</td>\n",
       "      <td>hate</td>\n",
       "    </tr>\n",
       "  </tbody>\n",
       "</table>\n",
       "<p>511 rows × 3 columns</p>\n",
       "</div>"
      ],
      "text/plain": [
       "      ID    bias  hate\n",
       "0      0    none  none\n",
       "1      1    none  none\n",
       "2      2    none  hate\n",
       "3      3    none  hate\n",
       "4      4    none  hate\n",
       "..   ...     ...   ...\n",
       "506  506    none  hate\n",
       "507  507    none  none\n",
       "508  508  others  hate\n",
       "509  509  others  hate\n",
       "510  510    none  hate\n",
       "\n",
       "[511 rows x 3 columns]"
      ]
     },
     "execution_count": 9,
     "metadata": {},
     "output_type": "execute_result"
    }
   ],
   "source": [
    "submission = pd.read_csv('sample_submission.csv')\n",
    "submission['bias'] = bias_result.bias\n",
    "submission['hate'] = hate_result.hate\n",
    "submission"
   ]
  },
  {
   "cell_type": "code",
   "execution_count": 10,
   "id": "81258b87-482b-480a-acd6-9d29cf821dd3",
   "metadata": {},
   "outputs": [],
   "source": [
    "submission.to_csv(f'./_submission.csv', index=False)"
   ]
  }
 ],
 "metadata": {
  "kernelspec": {
   "display_name": "Python 3 (ipykernel)",
   "language": "python",
   "name": "python3"
  },
  "language_info": {
   "codemirror_mode": {
    "name": "ipython",
    "version": 3
   },
   "file_extension": ".py",
   "mimetype": "text/x-python",
   "name": "python",
   "nbconvert_exporter": "python",
   "pygments_lexer": "ipython3",
   "version": "3.8.5"
  }
 },
 "nbformat": 4,
 "nbformat_minor": 5
}
